{
 "cells": [
  {
   "cell_type": "code",
   "execution_count": 1,
   "id": "bace756d",
   "metadata": {},
   "outputs": [],
   "source": [
    "import os\n",
    "import pandas as pd\n",
    "import numpy as np\n",
    "import matplotlib.pyplot as plt"
   ]
  },
  {
   "cell_type": "code",
   "execution_count": 2,
   "id": "f31cdf7a",
   "metadata": {},
   "outputs": [
    {
     "name": "stdout",
     "output_type": "stream",
     "text": [
      "C:\\Users\\nafis\\Documents\\Naf's files\\Courses\\DataCamp\\datacamp xx - skill track - Finance Fundamentals in Python\\1 Introduction to Python for Finance\\src\n"
     ]
    }
   ],
   "source": [
    "# set path\n",
    "print(os.getcwd())\n",
    "os.chdir(r\"C:\\Users\\nafis\\Documents\\Naf's files\\Courses\\DataCamp\\datacamp xx - skill track - Finance Fundamentals in Python\\1 Introduction to Python for Finance\\data\")  # Provide the new path here"
   ]
  },
  {
   "cell_type": "code",
   "execution_count": 3,
   "id": "47e1ebd5",
   "metadata": {},
   "outputs": [
    {
     "name": "stdout",
     "output_type": "stream",
     "text": [
      "<class 'pandas.core.frame.DataFrame'>\n",
      "RangeIndex: 102 entries, 0 to 101\n",
      "Data columns (total 4 columns):\n",
      " #   Column  Non-Null Count  Dtype  \n",
      "---  ------  --------------  -----  \n",
      " 0   Name    102 non-null    object \n",
      " 1   Sector  102 non-null    object \n",
      " 2   Price   102 non-null    float64\n",
      " 3   EPS     102 non-null    float64\n",
      "dtypes: float64(2), object(2)\n",
      "memory usage: 3.3+ KB\n",
      "None\n",
      "                  Name                  Sector   Price    EPS\n",
      "0            Apple Inc  Information Technology  170.12   9.20\n",
      "1           Abbvie Inc             Health Care   93.29   5.31\n",
      "2  Abbott Laboratories             Health Care   55.28   2.41\n",
      "3        Accenture Plc  Information Technology  145.30   5.91\n",
      "4         Allergan Plc             Health Care  171.81  15.42\n"
     ]
    }
   ],
   "source": [
    "# Read in the csv file 'sector' comprising S&P 100 data\n",
    "SP100Data = pd.read_csv(\"sector.txt\")\n",
    "print(SP100Data.info())\n",
    "print(SP100Data.head())\n",
    "\n",
    "# Convert DataFrame columns (Series) into List\n",
    "names = SP100Data.Name.values.tolist()\n",
    "prices = SP100Data.Price.values.tolist()\n",
    "earnings = SP100Data.EPS.values.tolist()\n",
    "sectors = SP100Data.Sector.values.tolist()"
   ]
  },
  {
   "cell_type": "code",
   "execution_count": 4,
   "id": "31c83cb7",
   "metadata": {},
   "outputs": [
    {
     "name": "stdout",
     "output_type": "stream",
     "text": [
      "['Apple Inc', 'Abbvie Inc', 'Abbott Laboratories', 'Accenture Plc']\n",
      "Exxon Mobil Corp\n",
      "80.31\n",
      "3.56\n",
      "Energy\n",
      "\n",
      "\n",
      "P/E Ratio: [  18.49130435   17.56873823   22.93775934   24.58544839   11.14202335\n",
      "   23.70517928   14.8011782    13.42845787  285.99492386   17.99233716\n",
      "   27.18358974   15.25714286   14.44742937   15.19596542   21.99767981\n",
      "   20.43243243   28.81875994   13.8477842    24.75135135   16.075\n",
      "  215.0310559    25.14285714   17.88613861   11.64379947 2494.5\n",
      "   29.41924399   16.76497696   12.29071804   32.16806723   24.02313625\n",
      "   18.07368421   19.91235955   19.43169399   23.31007752   16.66129032\n",
      "    7.20833333   34.51637765   18.2829555    15.84375      16.21875\n",
      "   19.73187686   14.44354839    7.47703549    7.22778675   34.09708738\n",
      "   34.6196853    12.3984375    56.94520548   24.44396552   21.30071942\n",
      "   11.08345534   14.11320755   19.40336134   14.20461095   22.63764045\n",
      "   26.21538462   24.12698413   20.28606357   24.60141509   18.76267281\n",
      "   34.78654292   26.0953125    20.72682927   16.95522388    9.97115385\n",
      "   25.97653631   21.04746835   21.37251356   13.81491003   13.5900277\n",
      "   24.40532544   23.34332834   25.30212766   19.20392157  194.77142857\n",
      "   23.66997985   22.55859375   14.152        22.19346734   23.01781737\n",
      "   54.67857143   17.67989418   24.36772487   27.45410628   47.69767442\n",
      "   18.58909091   26.32231405   11.80546075   11.71805274   14.62376238\n",
      "   24.28325123   21.84895833   20.4204947    18.92976589   15.39465875\n",
      "   17.68126888   31.68678161   12.22666667   13.7745098    13.04830918\n",
      "   22.03669725   22.55898876]\n",
      "\n",
      "\n"
     ]
    }
   ],
   "source": [
    "# Task1:\n",
    "\n",
    "# Given: Lists of data describing the S&P 100: names, prices, earnings, sectors\n",
    "# Objective I: Explore & analyise the S&P 100 data, specifically growth expectations of companies within S&P 100 by calculation the 'price to earning ratio' of each company\n",
    "# I.e. which equals to Market Price (P) / Earning per Share (E); the higher P/E ratio, the higher growth expectations\n",
    "\n",
    "# Step 1 - Examine the Lists\n",
    "# First four items of names\n",
    "print(names[0:4])\n",
    "\n",
    "# Print information on last company\n",
    "print(names[-1])\n",
    "print(prices[-1])\n",
    "print(earnings[-1])\n",
    "print(sectors[-1])\n",
    "print('\\n')\n",
    "\n",
    "# Step 2 - Convert lists to arrays\n",
    "# Convert lists to arrays\n",
    "prices_array = np.array(prices)\n",
    "earnings_array = np.array(earnings)\n",
    "sectors_array = np.array(sectors)\n",
    "names_array = np.array(names)\n",
    "\n",
    "# Step 3 - Element-wise array operations: Calculate P/E ratio \n",
    "pe = prices_array / earnings_array\n",
    "print(\"P/E Ratio:\", pe)\n",
    "print('\\n')"
   ]
  },
  {
   "cell_type": "code",
   "execution_count": 5,
   "id": "50b80087",
   "metadata": {},
   "outputs": [
    {
     "name": "stdout",
     "output_type": "stream",
     "text": [
      "it_names: ['Apple Inc' 'Accenture Plc' 'Cisco Systems Inc' 'Facebook Inc'\n",
      " 'Alphabet Class C' 'Alphabet Class A' 'International Business Machines'\n",
      " 'Intel Corp' 'Mastercard Inc' 'Microsoft Corp' 'Oracle Corp'\n",
      " 'Paypal Holdings' 'Qualcomm Inc' 'Texas Instruments' 'Visa Inc']\n",
      "\n",
      "\n",
      "it_pe: [18.49130435 24.58544839 16.76497696 34.51637765 34.09708738 34.6196853\n",
      " 11.08345534 14.11320755 34.78654292 24.40532544 19.20392157 54.67857143\n",
      " 17.67989418 24.28325123 31.68678161]\n",
      "\n",
      "\n",
      "cs_names: ['Colgate-Palmolive Company' 'Costco Wholesale' 'CVS Corp'\n",
      " 'Kraft Heinz Co' 'Coca-Cola Company' 'Mondelez Intl Cmn A' 'Altria Group'\n",
      " 'Pepsico Inc' 'Procter & Gamble Company'\n",
      " 'Philip Morris International Inc' 'Walgreens Boots Alliance'\n",
      " 'Wal-Mart Stores']\n",
      "\n",
      "\n",
      "cs_pe: [25.14285714 29.41924399 12.29071804 22.63764045 24.12698413 20.72682927\n",
      " 21.04746835 22.55859375 22.19346734 23.01781737 13.7745098  22.03669725]\n",
      "\n",
      "\n",
      "it_pe_mean: 26.333055420408595\n",
      "it_pe_std: 10.8661467926753\n",
      "\n",
      "\n",
      "cs_pe_mean: 21.581068906419564\n",
      "cs_pe_std: 4.412021654267338\n",
      "\n",
      "\n"
     ]
    },
    {
     "data": {
      "image/png": "[encoded data removed]",
      "text/plain": [
       "<Figure size 432x288 with 1 Axes>"
      ]
     },
     "metadata": {
      "needs_background": "light"
     },
     "output_type": "display_data"
    }
   ],
   "source": [
    "# Task2:\n",
    "\n",
    "# Given: Numpy arrays of data describing the S&P 100: names, prices, earnings, sectors\n",
    "# Objective II: Explore & analyise sector-specific P7E ratios within companies of the S&P 100\n",
    "\n",
    "# Step 1 - Create a boolean filtering array\n",
    "boolean_array1 = (sectors_array == 'Information Technology')\n",
    "boolean_array2 = (sectors_array == 'Consumer Staples')\n",
    "# Step 2 - Apply filtering array to subset another array: E.g. Subset sector-specific data\n",
    "it_names = names_array[boolean_array1]\n",
    "it_pe = pe[boolean_array1]\n",
    "\n",
    "cs_names = names_array[boolean_array2]\n",
    "cs_pe = pe[boolean_array2]\n",
    "\n",
    "print(\"it_names:\", it_names)\n",
    "print('\\n')\n",
    "print(\"it_pe:\", it_pe)\n",
    "print('\\n')\n",
    "print(\"cs_names:\", cs_names)\n",
    "print('\\n')\n",
    "print(\"cs_pe:\", cs_pe)\n",
    "print('\\n')\n",
    "\n",
    "# step 3 - Summarize sector data & P/E ratios: Calculate mean and standard deviation\n",
    "it_pe_mean = np.mean(it_pe)\n",
    "it_pe_std = np.std(it_pe)\n",
    "\n",
    "print(\"it_pe_mean:\", it_pe_mean)\n",
    "print(\"it_pe_std:\", it_pe_std)\n",
    "print('\\n')\n",
    "\n",
    "cs_pe_mean = np.mean(cs_pe)\n",
    "cs_pe_std = np.std(cs_pe)\n",
    "\n",
    "print(\"cs_pe_mean:\", cs_pe_mean)\n",
    "print(\"cs_pe_std:\", cs_pe_std)\n",
    "print('\\n')\n",
    "\n",
    "it_id = range(0, 15)\n",
    "cs_id = range(0, 12)\n",
    "\n",
    "# Make a scatterplot\n",
    "plt.scatter(it_id, it_pe, color = 'red', label = 'IT')\n",
    "plt.scatter(cs_id, cs_pe, color = 'green', label = 'CS')\n",
    "\n",
    "# Add legend\n",
    "plt.legend()\n",
    "\n",
    "# Add labels\n",
    "plt.xlabel('Company ID')\n",
    "plt.ylabel('P/E Ratio')\n",
    "plt.show()"
   ]
  },
  {
   "cell_type": "code",
   "execution_count": 6,
   "id": "59d738da",
   "metadata": {},
   "outputs": [
    {
     "data": {
      "image/png": "[encoded data removed]",
      "text/plain": [
       "<Figure size 432x288 with 1 Axes>"
      ]
     },
     "metadata": {
      "needs_background": "light"
     },
     "output_type": "display_data"
    },
    {
     "name": "stdout",
     "output_type": "stream",
     "text": [
      "In 2017, Paypal Holdings had an abnormally high P/E ratio of 54.68.\n"
     ]
    }
   ],
   "source": [
    "# Task 3: Visualizing trends\n",
    "\n",
    "# Step 1 - Make a histogram\n",
    "plt.hist(it_pe, bins = 8)\n",
    "plt.xlabel('P/E ratio')\n",
    "plt.ylabel('Frequency')\n",
    "plt.show()\n",
    "\n",
    "# Step 2 - Identify the outlier\n",
    "\n",
    "# Identify P/E ratio within it_pe that is > 50\n",
    "outlier_price = it_pe[it_pe > 50]\n",
    "\n",
    "# Identify the company with PE ratio > 50\n",
    "outlier_name = it_names[it_pe == outlier_price]\n",
    "\n",
    "# Display results\n",
    "print(\"In 2017, \" + str(outlier_name[0]) + \" had an abnormally high P/E ratio of \" + str(round(outlier_price[0], 2)) + \".\")"
   ]
  }
 ],
 "metadata": {
  "kernelspec": {
   "display_name": "Python 3",
   "language": "python",
   "name": "python3"
  },
  "language_info": {
   "codemirror_mode": {
    "name": "ipython",
    "version": 3
   },
   "file_extension": ".py",
   "mimetype": "text/x-python",
   "name": "python",
   "nbconvert_exporter": "python",
   "pygments_lexer": "ipython3",
   "version": "3.8.8"
  }
 },
 "nbformat": 4,
 "nbformat_minor": 5
}
