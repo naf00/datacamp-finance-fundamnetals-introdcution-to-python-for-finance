{
 "cells": [
  {
   "cell_type": "code",
   "execution_count": 1,
   "id": "8dd2d775",
   "metadata": {},
   "outputs": [],
   "source": [
    "import os\n",
    "import pandas as pd\n",
    "import numpy as np\n",
    "import matplotlib.pyplot as plt"
   ]
  },
  {
   "cell_type": "code",
   "execution_count": 2,
   "id": "618e9bc2",
   "metadata": {},
   "outputs": [
    {
     "name": "stdout",
     "output_type": "stream",
     "text": [
      "C:\\Users\\nafis\\Documents\\Naf's files\\Courses\\DataCamp\\datacamp xx - skill track - Finance Fundamentals in Python\\1 Introduction to Python for Finance\\src\n"
     ]
    }
   ],
   "source": [
    "# set path\n",
    "print(os.getcwd())\n",
    "os.chdir(r\"C:\\Users\\nafis\\Documents\\Naf's files\\Courses\\DataCamp\\datacamp xx - skill track - Finance Fundamentals in Python\\1 Introduction to Python for Finance\\data\")  # Provide the new path here"
   ]
  },
  {
   "cell_type": "code",
   "execution_count": 3,
   "id": "5ac5e092",
   "metadata": {},
   "outputs": [
    {
     "name": "stdout",
     "output_type": "stream",
     "text": [
      "names: ['Apple Inc', 'Coca-Cola', 'Walmart', 'Amazon.com', 'DowDuPont', 'Alphabet Inc']\n",
      "prices: [159.54, 37.13, 71.17, 1705.54, 66.43, 1132.34]\n",
      "\n",
      "\n",
      "last two names ['DowDuPont', 'Alphabet Inc']\n",
      "first two names ['Apple Inc', 'Coca-Cola']\n",
      "every other names ['Apple Inc', 'Walmart', 'DowDuPont']\n",
      "\n",
      "\n",
      "The largest stock price is associated with Amazon.com and is $1705.54.\n"
     ]
    }
   ],
   "source": [
    "# Lists: methodes & functions\n",
    "\n",
    "names = ['Apple Inc', 'Coca-Cola', 'Walmart']\n",
    "prices = [159.54, 37.13, 71.17]\n",
    "\n",
    "#  Append & Extend\n",
    "# 'append()' method to add one more value\n",
    "# 'extend' method to add more than one values but they shoud be presented as a list (within [])\n",
    "\n",
    "names.append('Amazon.com')\n",
    "prices.append(1705.54)\n",
    "names.extend(['DowDuPont', 'Alphabet Inc'])\n",
    "prices.extend([66.43, 1132.34])\n",
    "print(\"names:\", names)\n",
    "print(\"prices:\", prices)\n",
    "print('\\n')\n",
    "\n",
    "# Index() - subsetting & slicing: left inclusive, right exclusive in python?\n",
    "print(\"last two names\", names[-2:])\n",
    "print(\"first two names\", names[:2])\n",
    "print(\"every other names\", names[0:-1:2])\n",
    "print('\\n')\n",
    "\n",
    "#index() example: finding stock with maximum price\n",
    "max_price = max(prices)\n",
    "# Identify index of max price\n",
    "max_index = prices.index(max_price)\n",
    "# Identify the name of the company with max price\n",
    "max_stock_name = names[max_index]\n",
    "# Fill in the blanks \n",
    "print('The largest stock price is associated with ' + max_stock_name + ' and is $' + str(max_price) + '.')"
   ]
  },
  {
   "cell_type": "code",
   "execution_count": 4,
   "id": "eecadfae",
   "metadata": {},
   "outputs": [
    {
     "name": "stdout",
     "output_type": "stream",
     "text": [
      "prices_array: [170.12  93.29  55.28 145.3  171.81  59.5  100.5 ]\n",
      "earnings_array: [ 9.2   5.31  2.41  5.91 15.42  2.51  6.79]\n",
      "\n",
      "\n",
      "pe_array: [18.49130435 17.56873823 22.93775934 24.58544839 11.14202335 23.70517928\n",
      " 14.8011782 ]\n",
      "\n",
      "\n",
      "[170.12  93.29  55.28]\n",
      "[171.81  59.5  100.5 ]\n",
      "[170.12 145.3  100.5 ]\n",
      "\n",
      "\n",
      "stock_array: [[170.12  93.29  55.28 145.3  171.81  59.5  100.5 ]\n",
      " [  9.2    5.31   2.41   5.91  15.42   2.51   6.79]]\n",
      "stock_array_shape: (2, 7)\n",
      "stock_array_size: 14\n",
      "\n",
      "\n",
      "stock_array_transposed: [[170.12   9.2 ]\n",
      " [ 93.29   5.31]\n",
      " [ 55.28   2.41]\n",
      " [145.3    5.91]\n",
      " [171.81  15.42]\n",
      " [ 59.5    2.51]\n",
      " [100.5    6.79]]\n",
      "stock_array_transposed_shape (7, 2)\n",
      "stock_array_transposed_size: 14\n",
      "\n",
      "\n",
      "prices: [170.12  93.29  55.28 145.3  171.81  59.5  100.5 ]\n",
      "earnings: [ 9.2   5.31  2.41  5.91 15.42  2.51  6.79]\n",
      "company_1: [170.12   9.2 ]\n",
      "\n",
      "\n",
      "prices_mean: 113.6857142857143\n",
      "prices_std: 45.51277932221513\n",
      "\n",
      "\n",
      "company_ids: [1 2 3 4 5 6 7]\n",
      "company_ids_odd: [1 3 5 7]\n",
      "\n",
      "\n",
      "boolean_array_prices_greater_than_mean: [ True False False  True  True False False]\n",
      "above_avg_prices: [170.12 145.3  171.81]\n",
      "\n",
      "\n",
      "boolean_array_health_care: [False  True  True False  True]\n",
      "health_care_companies: ['Abbvie Inc' 'Abbott Laboratories' 'Allergan Plc']\n"
     ]
    }
   ],
   "source": [
    "# Arrays\n",
    "\n",
    "prices = [170.12, 93.29, 55.28, 145.30, 171.81, 59.50, 100.50]\n",
    "earnings = [9.2, 5.31, 2.41, 5.91, 15.42, 2.51, 6.79]\n",
    "\n",
    "# NumPy arrays\n",
    "prices_array = np.array(prices)\n",
    "earnings_array = np.array(earnings)\n",
    "print(\"prices_array:\", prices_array)\n",
    "print(\"earnings_array:\", earnings_array)\n",
    "print('\\n')\n",
    "\n",
    "# Create PE ratio array by element-wise math operation\n",
    "# PE ratio: a financial indicator of the dollar amount an investor can expect to invest in a company in order to receive one dollar of that company’s earnings\n",
    "pe_array = prices_array / earnings_array\n",
    "print(\"pe_array:\", pe_array)\n",
    "print('\\n')\n",
    "\n",
    "# index - subsetting & slicing: subsetting arrays is similar to subsetting lists?\n",
    "# Subset the first three elements\n",
    "prices_subset_1 = prices_array[0:3]\n",
    "print(prices_subset_1)\n",
    "# Subset last three elements \n",
    "prices_subset_2 = prices_array[-3:]\n",
    "print(prices_subset_2)\n",
    "# Subset every third element\n",
    "prices_subset_3 = prices_array[0:7:3]\n",
    "print(prices_subset_3)\n",
    "print('\\n')\n",
    "\n",
    "# 2D arrays\n",
    "# Create a 2D array of prices and earnings\n",
    "stock_array = np.array([prices, earnings])\n",
    "print(\"stock_array:\", stock_array)\n",
    "\n",
    "# Shape - array dimension\n",
    "print(\"stock_array_shape:\", stock_array.shape)\n",
    "\n",
    "# Size - total number of elements in array\n",
    "print(\"stock_array_size:\", stock_array.size)\n",
    "print('\\n')\n",
    "\n",
    "# Transpose \n",
    "stock_array_transposed = np.transpose(stock_array)\n",
    "print(\"stock_array_transposed:\", stock_array_transposed)\n",
    "print(\"stock_array_transposed_shape\", stock_array_transposed.shape)\n",
    "print(\"stock_array_transposed_size:\", stock_array_transposed.size)\n",
    "print('\\n')\n",
    "\n",
    "# Subset 2D array\n",
    "prices = stock_array_transposed[:, 0]\n",
    "print(\"prices:\", prices)\n",
    "earnings = stock_array_transposed[:,1]\n",
    "print(\"earnings:\", earnings)\n",
    "# subset the price and earning for first company, i.e. row '0'\n",
    "company_1 = stock_array_transposed[0,0:2]\n",
    "print(\"company_1:\", company_1)\n",
    "print('\\n')\n",
    "\n",
    "# Mean & Standard Deviation \n",
    "prices_mean = np.mean(prices)\n",
    "print(\"prices_mean:\", prices_mean)\n",
    "prices_std = np.std(prices)\n",
    "print(\"prices_std:\", prices_std)\n",
    "print('\\n')\n",
    "\n",
    "# Arange - generating a sequence of numbers\n",
    "# Create and print company IDs\n",
    "company_ids = np.arange(1, 8, 1)\n",
    "print(\"company_ids:\", company_ids)\n",
    "# Use array slicing to select specific company IDs\n",
    "company_ids_odd = np.arange(1, 8, 2)\n",
    "print(\"company_ids_odd:\", company_ids_odd)\n",
    "print('\\n')\n",
    "\n",
    "# Boolean arrays to subset arrays\n",
    "# Example 1\n",
    "boolean_array = (prices > prices_mean)\n",
    "print(\"boolean_array_prices_greater_than_mean:\", boolean_array)\n",
    "above_avg = prices[boolean_array]\n",
    "print(\"above_avg_prices:\", above_avg)\n",
    "print('\\n')\n",
    "# Example 2\n",
    "company_names = np.array(['Apple Inc', 'Abbvie Inc', 'Abbott Laboratories',\n",
    "       'Accenture Technologies', 'Allergan Plc'])\n",
    "sectors = np.array(['Information Technology', 'Health Care', 'Health Care',\n",
    "       'Information Technologies', 'Health Care'])\n",
    "\n",
    "boolean_array = (sectors == 'Health Care')\n",
    "print(\"boolean_array_health_care:\", boolean_array)\n",
    "health_care = company_names[boolean_array]\n",
    "print(\"health_care_companies:\", health_care)"
   ]
  },
  {
   "cell_type": "code",
   "execution_count": 5,
   "id": "0f0a4119",
   "metadata": {},
   "outputs": [
    {
     "name": "stdout",
     "output_type": "stream",
     "text": [
      "<class 'pandas.core.frame.DataFrame'>\n",
      "RangeIndex: 2338 entries, 0 to 2337\n",
      "Data columns (total 2 columns):\n",
      " #   Column  Non-Null Count  Dtype  \n",
      "---  ------  --------------  -----  \n",
      " 0   Day     2338 non-null   int64  \n",
      " 1   Price   2338 non-null   float64\n",
      "dtypes: float64(1), int64(1)\n",
      "memory usage: 36.7 KB\n",
      "None\n",
      "   Day  Price\n",
      "0    1  78.72\n",
      "1    2  78.31\n",
      "2    3  75.98\n",
      "3    4  78.21\n",
      "4    5  78.21\n"
     ]
    },
    {
     "data": {
      "image/png": "[encoded data removed]",
      "text/plain": [
       "<Figure size 432x288 with 1 Axes>"
      ]
     },
     "metadata": {
      "needs_background": "light"
     },
     "output_type": "display_data"
    }
   ],
   "source": [
    "# Visualization\n",
    "\n",
    "# Read in the csv file 'stock_data1'\n",
    "StockData = pd.read_csv(\"stock_data1.csv\")\n",
    "print(StockData.info())\n",
    "print(StockData.head())\n",
    "\n",
    "# Convert DataFrame columns (Series) into List\n",
    "days = StockData.Day.values.tolist()\n",
    "prices = StockData.Price.values.tolist()\n",
    "\n",
    "# Plot the price of stock over time\n",
    "plt.plot(days, prices, color=\"red\", linestyle=\"--\")\n",
    "\n",
    "# Add x and y labels\n",
    "plt.xlabel('Days')\n",
    "plt.ylabel('Prices, $')\n",
    "\n",
    "# Add plot title\n",
    "plt.title('Company Stock Prices Over Time')\n",
    "\n",
    "# Display the plot\n",
    "plt.show()"
   ]
  },
  {
   "cell_type": "code",
   "execution_count": 6,
   "id": "087b4ae6",
   "metadata": {},
   "outputs": [
    {
     "name": "stdout",
     "output_type": "stream",
     "text": [
      "<class 'pandas.core.frame.DataFrame'>\n",
      "RangeIndex: 1260 entries, 0 to 1259\n",
      "Data columns (total 3 columns):\n",
      " #   Column    Non-Null Count  Dtype  \n",
      "---  ------    --------------  -----  \n",
      " 0   day       1260 non-null   int64  \n",
      " 1   company1  1260 non-null   float64\n",
      " 2   company2  1260 non-null   float64\n",
      "dtypes: float64(2), int64(1)\n",
      "memory usage: 29.7 KB\n",
      "None\n",
      "   day  company1   company2\n",
      "0    1     78.72  62.957142\n",
      "1    2     78.31  62.185715\n",
      "2    3     75.98  62.971428\n",
      "3    4     78.21  64.279999\n",
      "4    5     78.21  64.998573\n"
     ]
    },
    {
     "data": {
      "image/png": "[encoded data removed]",
      "text/plain": [
       "<Figure size 432x288 with 1 Axes>"
      ]
     },
     "metadata": {
      "needs_background": "light"
     },
     "output_type": "display_data"
    }
   ],
   "source": [
    "# Multiple lines on the same plot\n",
    "\n",
    "# Read in the csv file 'stock_data1'\n",
    "StockData2 = pd.read_csv(\"stock_data2.csv\")\n",
    "print(StockData2.info())\n",
    "print(StockData2.head())\n",
    "\n",
    "# Convert DataFrame columns (Series) into List\n",
    "days2 = StockData2.day.values.tolist()\n",
    "prices1 = StockData2.company1.values.tolist()\n",
    "prices2 = StockData2.company2.values.tolist()\n",
    "\n",
    "# Plot two lines of varying colors \n",
    "plt.plot(days2, prices1, color='red')\n",
    "plt.plot(days2, prices2, color='green')\n",
    "\n",
    "# Add labels\n",
    "plt.xlabel('Days')\n",
    "plt.ylabel('Prices, $')\n",
    "plt.title('Stock Prices Over Time')\n",
    "plt.show()"
   ]
  },
  {
   "cell_type": "code",
   "execution_count": 7,
   "id": "7a8e548d",
   "metadata": {},
   "outputs": [
    {
     "data": {
      "image/png": "[encoded data removed]",
      "text/plain": [
       "<Figure size 432x288 with 1 Axes>"
      ]
     },
     "metadata": {
      "needs_background": "light"
     },
     "output_type": "display_data"
    }
   ],
   "source": [
    "# Scatter plot\n",
    "\n",
    "# Plot price as a function of time\n",
    "plt.scatter(days, prices, color='green', s=10)\n",
    "\n",
    "# Show plot\n",
    "plt.show()"
   ]
  },
  {
   "cell_type": "code",
   "execution_count": 8,
   "id": "ee30b5e9",
   "metadata": {},
   "outputs": [
    {
     "data": {
      "image/png": "[encoded data removed]",
      "text/plain": [
       "<Figure size 432x288 with 1 Axes>"
      ]
     },
     "metadata": {
      "needs_background": "light"
     },
     "output_type": "display_data"
    }
   ],
   "source": [
    "# Histogram \n",
    "\n",
    "plt.hist(prices, bins=100)\n",
    "plt.show()"
   ]
  },
  {
   "cell_type": "code",
   "execution_count": 9,
   "id": "d1dce5bf",
   "metadata": {},
   "outputs": [
    {
     "data": {
      "image/png": "[encoded data removed]",
      "text/plain": [
       "<Figure size 432x288 with 1 Axes>"
      ]
     },
     "metadata": {
      "needs_background": "light"
     },
     "output_type": "display_data"
    }
   ],
   "source": [
    "# Comparing two histograms\n",
    "\n",
    "plt.hist(prices1, bins=100, alpha=0.4, label='Company 1')\n",
    "plt.hist(prices2, bins=100, alpha=0.4, label='Company 2')\n",
    "\n",
    "# Add the legend\n",
    "plt.legend()\n",
    "plt.show()"
   ]
  }
 ],
 "metadata": {
  "kernelspec": {
   "display_name": "Python 3",
   "language": "python",
   "name": "python3"
  },
  "language_info": {
   "codemirror_mode": {
    "name": "ipython",
    "version": 3
   },
   "file_extension": ".py",
   "mimetype": "text/x-python",
   "name": "python",
   "nbconvert_exporter": "python",
   "pygments_lexer": "ipython3",
   "version": "3.8.8"
  }
 },
 "nbformat": 4,
 "nbformat_minor": 5
}
